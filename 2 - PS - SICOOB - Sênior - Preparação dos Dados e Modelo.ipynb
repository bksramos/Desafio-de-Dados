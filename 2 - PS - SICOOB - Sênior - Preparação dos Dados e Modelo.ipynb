{
 "cells": [
  {
   "cell_type": "markdown",
   "metadata": {},
   "source": [
    "# 1. Variáveis e Pacotes que serão utilizadas"
   ]
  },
  {
   "cell_type": "markdown",
   "metadata": {},
   "source": [
    "#### As seguintes variáveis serão utilizadas\n",
    "- v1 = Possível score ou categoria (0, 0.693147, 1.098612, 1.386294, 1.609438, 1.791759, 1.945910, 2.079442, 2.197225)\n",
    "- v2 = Possível idade (valor numérico - float)\n",
    "- v3 = Possível categoria (1, 2, 3)\n",
    "- v4 = Possível valor monetário (valor numérico - float)\n",
    "- v6 = Valores numéricos com grande incidência do valor 0\n",
    "- v7 = Valores numéricos com grande incidência do valor 0\n",
    "- v8 = Valores numéricos com grande incidência do valor 0"
   ]
  },
  {
   "cell_type": "code",
   "execution_count": 2,
   "metadata": {},
   "outputs": [],
   "source": [
    "import pandas as pd\n",
    "import seaborn as sns\n",
    "import numpy as np\n",
    "import matplotlib.pyplot as plt\n",
    "\n",
    "from sklearn import preprocessing\n",
    "from sklearn.model_selection import train_test_split\n",
    "from sklearn.preprocessing import MinMaxScaler\n",
    "from imblearn.over_sampling import SMOTE \n",
    "from imblearn.under_sampling import RandomUnderSampler \n",
    "from collections import Counter\n",
    "from sklearn.tree import DecisionTreeClassifier, plot_tree\n",
    "from sklearn.linear_model import LogisticRegression\n",
    "from sklearn.metrics import plot_confusion_matrix, classification_report\n",
    "from sklearn.model_selection import GridSearchCV, RepeatedKFold, cross_val_score\n",
    "from sklearn.ensemble import RandomForestClassifier"
   ]
  },
  {
   "cell_type": "code",
   "execution_count": 3,
   "metadata": {},
   "outputs": [
    {
     "data": {
      "text/plain": [
       "'C:\\\\Users\\\\DPL\\\\Desktop\\\\Projetos e Trabalhos\\\\SICOOB'"
      ]
     },
     "execution_count": 3,
     "metadata": {},
     "output_type": "execute_result"
    }
   ],
   "source": [
    "import os\n",
    "os.chdir('C:/Users/DPL/Desktop/Projetos e Trabalhos/SICOOB')\n",
    "os.getcwd()"
   ]
  },
  {
   "cell_type": "code",
   "execution_count": 4,
   "metadata": {},
   "outputs": [],
   "source": [
    "df_completo = pd.read_excel('dados.xlsx', sheet_name='Planilha1')"
   ]
  },
  {
   "cell_type": "code",
   "execution_count": 5,
   "metadata": {},
   "outputs": [],
   "source": [
    "var_selected = ['v1',\n",
    "                'v2',\n",
    "                'v3',\n",
    "                'v4',\n",
    "                'v6',\n",
    "                'v7',\n",
    "                'v8',\n",
    "                'target']\n",
    "\n",
    "df = df_completo[var_selected]"
   ]
  },
  {
   "cell_type": "code",
   "execution_count": 18,
   "metadata": {},
   "outputs": [
    {
     "data": {
      "text/plain": [
       "v1         object\n",
       "v2          int64\n",
       "v3         object\n",
       "v4        float64\n",
       "v6         object\n",
       "v7        float64\n",
       "v8        float64\n",
       "target      int64\n",
       "v1G        object\n",
       "dtype: object"
      ]
     },
     "execution_count": 18,
     "metadata": {},
     "output_type": "execute_result"
    }
   ],
   "source": [
    "df.dtypes"
   ]
  },
  {
   "cell_type": "markdown",
   "metadata": {},
   "source": [
    "# 2. Preparação dos dados\n",
    " - Transformar variáveis categóricas de float para object\n",
    " - Criação de novas variáveis\n",
    " - Tratamento de outliers"
   ]
  },
  {
   "cell_type": "markdown",
   "metadata": {},
   "source": [
    "## 2.1. Transformar variáveis categóricas de float para object"
   ]
  },
  {
   "cell_type": "code",
   "execution_count": 7,
   "metadata": {},
   "outputs": [
    {
     "name": "stderr",
     "output_type": "stream",
     "text": [
      "<ipython-input-7-da6aac11c175>:7: SettingWithCopyWarning: \n",
      "A value is trying to be set on a copy of a slice from a DataFrame.\n",
      "Try using .loc[row_indexer,col_indexer] = value instead\n",
      "\n",
      "See the caveats in the documentation: https://pandas.pydata.org/pandas-docs/stable/user_guide/indexing.html#returning-a-view-versus-a-copy\n",
      "  df[i] = df[i].astype(\"object\")\n"
     ]
    }
   ],
   "source": [
    "to_object = [\n",
    "            'v1',\n",
    "            'v3',\n",
    "            'v6']\n",
    "\n",
    "for i in to_object:\n",
    "    df[i] = df[i].astype(\"object\")"
   ]
  },
  {
   "cell_type": "code",
   "execution_count": 8,
   "metadata": {},
   "outputs": [
    {
     "data": {
      "text/plain": [
       "v1    object\n",
       "v3    object\n",
       "v6    object\n",
       "dtype: object"
      ]
     },
     "execution_count": 8,
     "metadata": {},
     "output_type": "execute_result"
    }
   ],
   "source": [
    "df[to_object].dtypes"
   ]
  },
  {
   "cell_type": "code",
   "execution_count": 24,
   "metadata": {},
   "outputs": [
    {
     "name": "stdout",
     "output_type": "stream",
     "text": [
      "v1: \n",
      " 0.000000    7487\n",
      "0.693147    1175\n",
      "1.098612     875\n",
      "1.386294     348\n",
      "1.609438      79\n",
      "1.791759      21\n",
      "1.945910       8\n",
      "2.079442       4\n",
      "2.197225       3\n",
      "Name: v1, dtype: int64\n",
      "\n",
      "\n",
      "v3: \n",
      " 1    3767\n",
      "2    5271\n",
      "3     962\n",
      "Name: v3, dtype: int64\n",
      "\n",
      "\n",
      "v6: \n",
      " 0.00       9542\n",
      "140.14        1\n",
      "409.31        1\n",
      "623.42        1\n",
      "654.13        1\n",
      "           ... \n",
      "2639.96       1\n",
      "2674.22       1\n",
      "2718.66       1\n",
      "2752.96       1\n",
      "3094.91       1\n",
      "Name: v6, Length: 459, dtype: int64\n",
      "\n",
      "\n",
      "v1G: \n",
      " 0    7487\n",
      "Name: v1G, dtype: int64\n",
      "\n",
      "\n"
     ]
    }
   ],
   "source": [
    "categorical = df.select_dtypes(include='object')\n",
    "\n",
    "for i in categorical.columns:\n",
    "    print(f\"{i}: \\n {df[i].value_counts().sort_index()}\\n\\n\")"
   ]
  },
  {
   "cell_type": "markdown",
   "metadata": {},
   "source": [
    "## 2.2. Criação de novas vairáveis"
   ]
  },
  {
   "cell_type": "code",
   "execution_count": 19,
   "metadata": {},
   "outputs": [],
   "source": [
    "df['v1G'] = df.v1.map({0.000000 : 0, \n",
    "                            0.693147 : 1,\n",
    "                            1.098612 : '> 0',\n",
    "                            1.386294 : '> 0',\n",
    "                            1.609438 : '> 0', \n",
    "                            1.791759 : '> 0', \n",
    "                            1.945910 : '> 0',\n",
    "                            2.079442 : '> 0', \n",
    "                            2.197225 : '> 0'})"
   ]
  },
  {
   "cell_type": "code",
   "execution_count": 22,
   "metadata": {},
   "outputs": [],
   "source": [
    "replace_map = {'v1': {0.000000 : 0, \n",
    "                            0.693147 : 1,\n",
    "                            1.098612 : '> 0',\n",
    "                            1.386294 : '> 0',\n",
    "                            1.609438 : '> 0', \n",
    "                            1.791759 : '> 0', \n",
    "                            1.945910 : '> 0',\n",
    "                            2.079442 : '> 0', \n",
    "                            2.197225 : '> 0'    \n",
    "}}"
   ]
  },
  {
   "cell_type": "code",
   "execution_count": 23,
   "metadata": {},
   "outputs": [
    {
     "name": "stdout",
     "output_type": "stream",
     "text": [
      "{'v1': {0.0: 1, 0.6931471805599453: 2, 1.0986122886681098: 3, 1.3862943611198906: 4, 1.6094379124341003: 5, 1.791759469228055: 6, 1.9459101490553132: 7, 2.0794415416798357: 8, 2.1972245773362196: 9}}\n"
     ]
    }
   ],
   "source": [
    "labels = df['v1'].astype('category').cat.categories.tolist()\n",
    "replace_map_comp = {'v1' : {k: v for k,v in zip(labels,list(range(1,len(labels)+1)))}}\n",
    "\n",
    "print(replace_map_comp)"
   ]
  },
  {
   "cell_type": "code",
   "execution_count": 25,
   "metadata": {},
   "outputs": [
    {
     "name": "stdout",
     "output_type": "stream",
     "text": [
      "<class 'pandas.core.frame.DataFrame'>\n",
      "RangeIndex: 10000 entries, 0 to 9999\n",
      "Data columns (total 9 columns):\n",
      " #   Column  Non-Null Count  Dtype  \n",
      "---  ------  --------------  -----  \n",
      " 0   v1      10000 non-null  object \n",
      " 1   v2      10000 non-null  int64  \n",
      " 2   v3      10000 non-null  object \n",
      " 3   v4      10000 non-null  float64\n",
      " 4   v6      10000 non-null  object \n",
      " 5   v7      10000 non-null  float64\n",
      " 6   v8      10000 non-null  float64\n",
      " 7   target  10000 non-null  int64  \n",
      " 8   v1G     7487 non-null   object \n",
      "dtypes: float64(3), int64(2), object(4)\n",
      "memory usage: 703.2+ KB\n"
     ]
    }
   ],
   "source": [
    "df.info()"
   ]
  },
  {
   "cell_type": "code",
   "execution_count": null,
   "metadata": {},
   "outputs": [],
   "source": []
  },
  {
   "cell_type": "code",
   "execution_count": null,
   "metadata": {},
   "outputs": [],
   "source": []
  },
  {
   "cell_type": "code",
   "execution_count": null,
   "metadata": {},
   "outputs": [],
   "source": []
  },
  {
   "cell_type": "code",
   "execution_count": null,
   "metadata": {},
   "outputs": [],
   "source": []
  },
  {
   "cell_type": "code",
   "execution_count": null,
   "metadata": {},
   "outputs": [],
   "source": []
  },
  {
   "cell_type": "code",
   "execution_count": null,
   "metadata": {},
   "outputs": [],
   "source": []
  },
  {
   "cell_type": "code",
   "execution_count": null,
   "metadata": {},
   "outputs": [],
   "source": []
  },
  {
   "cell_type": "code",
   "execution_count": null,
   "metadata": {},
   "outputs": [],
   "source": []
  },
  {
   "cell_type": "code",
   "execution_count": null,
   "metadata": {},
   "outputs": [],
   "source": []
  },
  {
   "cell_type": "code",
   "execution_count": null,
   "metadata": {},
   "outputs": [],
   "source": []
  },
  {
   "cell_type": "code",
   "execution_count": null,
   "metadata": {},
   "outputs": [],
   "source": []
  },
  {
   "cell_type": "code",
   "execution_count": null,
   "metadata": {},
   "outputs": [],
   "source": []
  },
  {
   "cell_type": "code",
   "execution_count": null,
   "metadata": {},
   "outputs": [],
   "source": []
  },
  {
   "cell_type": "code",
   "execution_count": null,
   "metadata": {},
   "outputs": [],
   "source": []
  }
 ],
 "metadata": {
  "kernelspec": {
   "display_name": "Python 3",
   "language": "python",
   "name": "python3"
  },
  "language_info": {
   "codemirror_mode": {
    "name": "ipython",
    "version": 3
   },
   "file_extension": ".py",
   "mimetype": "text/x-python",
   "name": "python",
   "nbconvert_exporter": "python",
   "pygments_lexer": "ipython3",
   "version": "3.8.5"
  }
 },
 "nbformat": 4,
 "nbformat_minor": 4
}
