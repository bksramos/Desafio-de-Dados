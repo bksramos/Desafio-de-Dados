{
 "cells": [
  {
   "cell_type": "markdown",
   "metadata": {},
   "source": [
    "\n",
    "## 1. Manipulação dos Dados e Featuring Engineering ## \n",
    "\n",
    "O primeiro passo a ser feito para se iniciar a análise, manipulação e exploração de dados é importar alguns pacotes que serão usados ao longo do trabalho e também definir o diretório de trabalho.\n"
   ]
  },
  {
   "cell_type": "code",
   "execution_count": 129,
   "metadata": {},
   "outputs": [],
   "source": [
    "import numpy as np \n",
    "import pandas as pd \n",
    "from pandas import ExcelWriter\n",
    "from pandas import ExcelFile\n",
    "\n",
    "from scipy.stats import shapiro\n",
    "from scipy.stats import mannwhitneyu\n",
    "from sklearn.feature_selection import chi2\n",
    "from sklearn import preprocessing\n",
    "\n",
    "import seaborn as sns\n",
    "import matplotlib.pyplot as plt\n",
    "import matplotlib.mlab as mlab\n",
    "import statsmodels.api as sm\n",
    "import scipy.stats as norm"
   ]
  },
  {
   "cell_type": "code",
   "execution_count": 4,
   "metadata": {},
   "outputs": [
    {
     "data": {
      "text/plain": [
       "'C:\\\\Users\\\\DPL\\\\Desktop\\\\Projetos e Trabalhos\\\\SICOOB'"
      ]
     },
     "execution_count": 4,
     "metadata": {},
     "output_type": "execute_result"
    }
   ],
   "source": [
    "## DEFININDO O DIRETORIO DE TRABALHO ##\n",
    "import os\n",
    "os.chdir('C:/Users/DPL/Desktop/Projetos e Trabalhos/SICOOB')\n",
    "os.getcwd()"
   ]
  },
  {
   "cell_type": "markdown",
   "metadata": {},
   "source": [
    "Em seguida importarei a base de dados."
   ]
  },
  {
   "cell_type": "code",
   "execution_count": 54,
   "metadata": {},
   "outputs": [
    {
     "data": {
      "text/html": [
       "<div>\n",
       "<style scoped>\n",
       "    .dataframe tbody tr th:only-of-type {\n",
       "        vertical-align: middle;\n",
       "    }\n",
       "\n",
       "    .dataframe tbody tr th {\n",
       "        vertical-align: top;\n",
       "    }\n",
       "\n",
       "    .dataframe thead th {\n",
       "        text-align: right;\n",
       "    }\n",
       "</style>\n",
       "<table border=\"1\" class=\"dataframe\">\n",
       "  <thead>\n",
       "    <tr style=\"text-align: right;\">\n",
       "      <th></th>\n",
       "      <th>v1</th>\n",
       "      <th>v2</th>\n",
       "      <th>v3</th>\n",
       "      <th>v4</th>\n",
       "      <th>v5</th>\n",
       "      <th>v6</th>\n",
       "      <th>v7</th>\n",
       "      <th>v8</th>\n",
       "      <th>target</th>\n",
       "    </tr>\n",
       "  </thead>\n",
       "  <tbody>\n",
       "    <tr>\n",
       "      <th>0</th>\n",
       "      <td>1.098612</td>\n",
       "      <td>50</td>\n",
       "      <td>1</td>\n",
       "      <td>1724.61</td>\n",
       "      <td>0.0</td>\n",
       "      <td>0.0</td>\n",
       "      <td>729.07</td>\n",
       "      <td>765.69</td>\n",
       "      <td>0</td>\n",
       "    </tr>\n",
       "    <tr>\n",
       "      <th>1</th>\n",
       "      <td>0.000000</td>\n",
       "      <td>41</td>\n",
       "      <td>2</td>\n",
       "      <td>2198.59</td>\n",
       "      <td>0.0</td>\n",
       "      <td>0.0</td>\n",
       "      <td>0.00</td>\n",
       "      <td>0.00</td>\n",
       "      <td>0</td>\n",
       "    </tr>\n",
       "    <tr>\n",
       "      <th>2</th>\n",
       "      <td>1.098612</td>\n",
       "      <td>39</td>\n",
       "      <td>2</td>\n",
       "      <td>1633.05</td>\n",
       "      <td>0.0</td>\n",
       "      <td>0.0</td>\n",
       "      <td>915.17</td>\n",
       "      <td>1108.55</td>\n",
       "      <td>0</td>\n",
       "    </tr>\n",
       "    <tr>\n",
       "      <th>3</th>\n",
       "      <td>0.000000</td>\n",
       "      <td>66</td>\n",
       "      <td>1</td>\n",
       "      <td>2111.51</td>\n",
       "      <td>0.0</td>\n",
       "      <td>0.0</td>\n",
       "      <td>881.79</td>\n",
       "      <td>1317.67</td>\n",
       "      <td>0</td>\n",
       "    </tr>\n",
       "    <tr>\n",
       "      <th>4</th>\n",
       "      <td>0.000000</td>\n",
       "      <td>42</td>\n",
       "      <td>1</td>\n",
       "      <td>1632.38</td>\n",
       "      <td>0.0</td>\n",
       "      <td>0.0</td>\n",
       "      <td>898.72</td>\n",
       "      <td>170.96</td>\n",
       "      <td>0</td>\n",
       "    </tr>\n",
       "  </tbody>\n",
       "</table>\n",
       "</div>"
      ],
      "text/plain": [
       "         v1  v2  v3       v4   v5   v6      v7       v8  target\n",
       "0  1.098612  50   1  1724.61  0.0  0.0  729.07   765.69       0\n",
       "1  0.000000  41   2  2198.59  0.0  0.0    0.00     0.00       0\n",
       "2  1.098612  39   2  1633.05  0.0  0.0  915.17  1108.55       0\n",
       "3  0.000000  66   1  2111.51  0.0  0.0  881.79  1317.67       0\n",
       "4  0.000000  42   1  1632.38  0.0  0.0  898.72   170.96       0"
      ]
     },
     "execution_count": 54,
     "metadata": {},
     "output_type": "execute_result"
    }
   ],
   "source": [
    "df = pd.read_excel('dados.xlsx', sheet_name='Planilha1')\n",
    "df.head()"
   ]
  },
  {
   "cell_type": "code",
   "execution_count": 106,
   "metadata": {},
   "outputs": [
    {
     "name": "stdout",
     "output_type": "stream",
     "text": [
      "<class 'pandas.core.frame.DataFrame'>\n",
      "RangeIndex: 10000 entries, 0 to 9999\n",
      "Data columns (total 9 columns):\n",
      " #   Column  Non-Null Count  Dtype  \n",
      "---  ------  --------------  -----  \n",
      " 0   v1      10000 non-null  float64\n",
      " 1   v2      10000 non-null  int64  \n",
      " 2   v3      10000 non-null  int64  \n",
      " 3   v4      10000 non-null  float64\n",
      " 4   v5      10000 non-null  float64\n",
      " 5   v6      10000 non-null  float64\n",
      " 6   v7      10000 non-null  float64\n",
      " 7   v8      10000 non-null  float64\n",
      " 8   target  10000 non-null  int64  \n",
      "dtypes: float64(6), int64(3)\n",
      "memory usage: 703.2 KB\n"
     ]
    }
   ],
   "source": [
    "df.info()"
   ]
  },
  {
   "cell_type": "code",
   "execution_count": 22,
   "metadata": {},
   "outputs": [
    {
     "data": {
      "text/plain": [
       "v1        0\n",
       "v2        0\n",
       "v3        0\n",
       "v4        0\n",
       "v5        0\n",
       "v6        0\n",
       "v7        0\n",
       "v8        0\n",
       "target    0\n",
       "dtype: int64"
      ]
     },
     "execution_count": 22,
     "metadata": {},
     "output_type": "execute_result"
    }
   ],
   "source": [
    "df.isnull().sum()"
   ]
  },
  {
   "cell_type": "markdown",
   "metadata": {},
   "source": [
    "A base de dados é composta de 9 variáveis (8 dependentes e 1 explicativa - target). Há 3 variáveis do tipo integer, as quais devem representar categorias, e outras 6 variáveis do tipo float. \n",
    "Não há valores faltantes (missing) na base de dados"
   ]
  },
  {
   "cell_type": "markdown",
   "metadata": {},
   "source": [
    "##### Transformando as variáveis que estão como integer para object"
   ]
  },
  {
   "cell_type": "code",
   "execution_count": 107,
   "metadata": {},
   "outputs": [],
   "source": [
    "to_object = [\n",
    "            'v1',\n",
    "            'v3',\n",
    "            'target']\n",
    "\n",
    "for i in to_object:\n",
    "    df[i] = df[i].astype(\"object\")"
   ]
  },
  {
   "cell_type": "code",
   "execution_count": 44,
   "metadata": {},
   "outputs": [
    {
     "data": {
      "text/plain": [
       "v1        object\n",
       "v3        object\n",
       "target    object\n",
       "dtype: object"
      ]
     },
     "execution_count": 44,
     "metadata": {},
     "output_type": "execute_result"
    }
   ],
   "source": [
    "df[to_object].dtypes"
   ]
  },
  {
   "cell_type": "code",
   "execution_count": null,
   "metadata": {},
   "outputs": [],
   "source": []
  },
  {
   "cell_type": "code",
   "execution_count": 7,
   "metadata": {},
   "outputs": [
    {
     "data": {
      "text/plain": [
       "0    8850\n",
       "1    1150\n",
       "Name: target, dtype: int64"
      ]
     },
     "execution_count": 7,
     "metadata": {},
     "output_type": "execute_result"
    }
   ],
   "source": [
    "df['target'].value_counts()"
   ]
  },
  {
   "cell_type": "markdown",
   "metadata": {},
   "source": [
    "Ao realizar a contagem dos valores da variável target observa-se que a maior concentração de dados está na categoria \"0\". Há a possibildiade de a categoria \"1\" representar uma anomalia, como por exemplo: classificação em fraude ou a probabilidade de um cliente deixar a instituição \"Churn\""
   ]
  },
  {
   "cell_type": "markdown",
   "metadata": {},
   "source": [
    "A análise exploratória de dados irá averiguar as diferenças significativas entre estes dois grupos"
   ]
  },
  {
   "cell_type": "code",
   "execution_count": 8,
   "metadata": {},
   "outputs": [],
   "source": [
    "df_0 = df[df['target'] == 0]\n",
    "df_1 = df[df['target'] == 1]"
   ]
  },
  {
   "cell_type": "markdown",
   "metadata": {},
   "source": [
    "# 2. Análise Exploratória de Dados"
   ]
  },
  {
   "cell_type": "code",
   "execution_count": 29,
   "metadata": {},
   "outputs": [
    {
     "data": {
      "text/html": [
       "<div>\n",
       "<style scoped>\n",
       "    .dataframe tbody tr th:only-of-type {\n",
       "        vertical-align: middle;\n",
       "    }\n",
       "\n",
       "    .dataframe tbody tr th {\n",
       "        vertical-align: top;\n",
       "    }\n",
       "\n",
       "    .dataframe thead th {\n",
       "        text-align: right;\n",
       "    }\n",
       "</style>\n",
       "<table border=\"1\" class=\"dataframe\">\n",
       "  <thead>\n",
       "    <tr style=\"text-align: right;\">\n",
       "      <th></th>\n",
       "      <th>count</th>\n",
       "      <th>mean</th>\n",
       "      <th>std</th>\n",
       "      <th>min</th>\n",
       "      <th>25%</th>\n",
       "      <th>50%</th>\n",
       "      <th>75%</th>\n",
       "      <th>max</th>\n",
       "    </tr>\n",
       "  </thead>\n",
       "  <tbody>\n",
       "    <tr>\n",
       "      <th>v1</th>\n",
       "      <td>10000.0</td>\n",
       "      <td>0.245341</td>\n",
       "      <td>0.449645</td>\n",
       "      <td>0.0</td>\n",
       "      <td>0.0000</td>\n",
       "      <td>0.000</td>\n",
       "      <td>0.693147</td>\n",
       "      <td>2.197225</td>\n",
       "    </tr>\n",
       "    <tr>\n",
       "      <th>v4</th>\n",
       "      <td>10000.0</td>\n",
       "      <td>1775.627776</td>\n",
       "      <td>215.729086</td>\n",
       "      <td>0.0</td>\n",
       "      <td>1634.6500</td>\n",
       "      <td>1724.685</td>\n",
       "      <td>1890.822500</td>\n",
       "      <td>3223.210000</td>\n",
       "    </tr>\n",
       "    <tr>\n",
       "      <th>v5</th>\n",
       "      <td>10000.0</td>\n",
       "      <td>25.439553</td>\n",
       "      <td>126.381291</td>\n",
       "      <td>0.0</td>\n",
       "      <td>0.0000</td>\n",
       "      <td>0.000</td>\n",
       "      <td>0.000000</td>\n",
       "      <td>854.130000</td>\n",
       "    </tr>\n",
       "    <tr>\n",
       "      <th>v6</th>\n",
       "      <td>10000.0</td>\n",
       "      <td>79.244001</td>\n",
       "      <td>372.316123</td>\n",
       "      <td>0.0</td>\n",
       "      <td>0.0000</td>\n",
       "      <td>0.000</td>\n",
       "      <td>0.000000</td>\n",
       "      <td>3094.910000</td>\n",
       "    </tr>\n",
       "    <tr>\n",
       "      <th>v7</th>\n",
       "      <td>10000.0</td>\n",
       "      <td>793.964402</td>\n",
       "      <td>378.858728</td>\n",
       "      <td>0.0</td>\n",
       "      <td>726.3975</td>\n",
       "      <td>912.825</td>\n",
       "      <td>1037.955000</td>\n",
       "      <td>1635.800000</td>\n",
       "    </tr>\n",
       "    <tr>\n",
       "      <th>v8</th>\n",
       "      <td>10000.0</td>\n",
       "      <td>785.160602</td>\n",
       "      <td>776.180405</td>\n",
       "      <td>0.0</td>\n",
       "      <td>0.0000</td>\n",
       "      <td>638.805</td>\n",
       "      <td>1526.665000</td>\n",
       "      <td>2552.690000</td>\n",
       "    </tr>\n",
       "  </tbody>\n",
       "</table>\n",
       "</div>"
      ],
      "text/plain": [
       "      count         mean         std  min        25%       50%          75%  \\\n",
       "v1  10000.0     0.245341    0.449645  0.0     0.0000     0.000     0.693147   \n",
       "v4  10000.0  1775.627776  215.729086  0.0  1634.6500  1724.685  1890.822500   \n",
       "v5  10000.0    25.439553  126.381291  0.0     0.0000     0.000     0.000000   \n",
       "v6  10000.0    79.244001  372.316123  0.0     0.0000     0.000     0.000000   \n",
       "v7  10000.0   793.964402  378.858728  0.0   726.3975   912.825  1037.955000   \n",
       "v8  10000.0   785.160602  776.180405  0.0     0.0000   638.805  1526.665000   \n",
       "\n",
       "            max  \n",
       "v1     2.197225  \n",
       "v4  3223.210000  \n",
       "v5   854.130000  \n",
       "v6  3094.910000  \n",
       "v7  1635.800000  \n",
       "v8  2552.690000  "
      ]
     },
     "execution_count": 29,
     "metadata": {},
     "output_type": "execute_result"
    }
   ],
   "source": [
    "df.describe().T"
   ]
  },
  {
   "cell_type": "markdown",
   "metadata": {},
   "source": [
    "## 2.1. V1 (categorias por Score?)"
   ]
  },
  {
   "cell_type": "code",
   "execution_count": 9,
   "metadata": {},
   "outputs": [
    {
     "data": {
      "text/plain": [
       "0.000000    7487\n",
       "0.693147    1175\n",
       "1.098612     875\n",
       "1.386294     348\n",
       "1.609438      79\n",
       "1.791759      21\n",
       "1.945910       8\n",
       "2.079442       4\n",
       "2.197225       3\n",
       "Name: v1, dtype: int64"
      ]
     },
     "execution_count": 9,
     "metadata": {},
     "output_type": "execute_result"
    }
   ],
   "source": [
    "df['v1'].value_counts()"
   ]
  },
  {
   "cell_type": "code",
   "execution_count": 10,
   "metadata": {},
   "outputs": [
    {
     "data": {
      "text/plain": [
       "0.000000    6576\n",
       "0.693147    1082\n",
       "1.098612     783\n",
       "1.386294     309\n",
       "1.609438      66\n",
       "1.791759      21\n",
       "1.945910       7\n",
       "2.197225       3\n",
       "2.079442       3\n",
       "Name: v1, dtype: int64"
      ]
     },
     "execution_count": 10,
     "metadata": {},
     "output_type": "execute_result"
    }
   ],
   "source": [
    "df_0['v1'].value_counts()"
   ]
  },
  {
   "cell_type": "code",
   "execution_count": 11,
   "metadata": {},
   "outputs": [
    {
     "data": {
      "text/plain": [
       "0.000000    911\n",
       "0.693147     93\n",
       "1.098612     92\n",
       "1.386294     39\n",
       "1.609438     13\n",
       "1.945910      1\n",
       "2.079442      1\n",
       "Name: v1, dtype: int64"
      ]
     },
     "execution_count": 11,
     "metadata": {},
     "output_type": "execute_result"
    }
   ],
   "source": [
    "df_1['v1'].value_counts()"
   ]
  },
  {
   "cell_type": "code",
   "execution_count": 12,
   "metadata": {},
   "outputs": [
    {
     "data": {
      "text/plain": [
       "Text(0.5, 1.0, 'v1')"
      ]
     },
     "execution_count": 12,
     "metadata": {},
     "output_type": "execute_result"
    },
    {
     "data": {
      "image/png": "[encoded data removed]",
      "text/plain": [
       "<Figure size 432x288 with 1 Axes>"
      ]
     },
     "metadata": {
      "needs_background": "light"
     },
     "output_type": "display_data"
    }
   ],
   "source": [
    "objects = ('c1', 'c2', 'c3', 'c4', 'c5', 'c6', 'c7', 'c8', 'c9')\n",
    "y_pos = np.arange(len(objects))\n",
    "colors = ['dodgerblue', 'crimson', 'gold', 'white', 'brown', 'green',\n",
    "         'pink', 'black', 'purple']\n",
    "plt.bar(y_pos, df['v1'].value_counts(), align='center', alpha=0.5, color = colors, edgecolor = 'black')\n",
    "plt.xticks(y_pos, objects)\n",
    "plt.ylabel('Score')\n",
    "plt.title('v1')"
   ]
  },
  {
   "cell_type": "code",
   "execution_count": 13,
   "metadata": {},
   "outputs": [
    {
     "name": "stdout",
     "output_type": "stream",
     "text": [
      "target       0    1\n",
      "v1                 \n",
      "0.000000  6576  911\n",
      "0.693147  1082   93\n",
      "1.098612   783   92\n",
      "1.386294   309   39\n",
      "1.609438    66   13\n",
      "1.791759    21    0\n",
      "1.945910     7    1\n",
      "2.079442     3    1\n",
      "2.197225     3    0\n"
     ]
    }
   ],
   "source": [
    "v1_crosstab = pd.crosstab(df['v1'], df['target'], margins = False)\n",
    "print(v1_crosstab)"
   ]
  },
  {
   "cell_type": "markdown",
   "metadata": {},
   "source": [
    "## 2.2. V2 (Idade?)"
   ]
  },
  {
   "cell_type": "code",
   "execution_count": 35,
   "metadata": {},
   "outputs": [
    {
     "data": {
      "text/html": [
       "<div>\n",
       "<style scoped>\n",
       "    .dataframe tbody tr th:only-of-type {\n",
       "        vertical-align: middle;\n",
       "    }\n",
       "\n",
       "    .dataframe tbody tr th {\n",
       "        vertical-align: top;\n",
       "    }\n",
       "\n",
       "    .dataframe thead th {\n",
       "        text-align: right;\n",
       "    }\n",
       "</style>\n",
       "<table border=\"1\" class=\"dataframe\">\n",
       "  <thead>\n",
       "    <tr style=\"text-align: right;\">\n",
       "      <th></th>\n",
       "      <th>count</th>\n",
       "      <th>mean</th>\n",
       "      <th>std</th>\n",
       "      <th>min</th>\n",
       "      <th>25%</th>\n",
       "      <th>50%</th>\n",
       "      <th>75%</th>\n",
       "      <th>max</th>\n",
       "    </tr>\n",
       "    <tr>\n",
       "      <th>target</th>\n",
       "      <th></th>\n",
       "      <th></th>\n",
       "      <th></th>\n",
       "      <th></th>\n",
       "      <th></th>\n",
       "      <th></th>\n",
       "      <th></th>\n",
       "      <th></th>\n",
       "    </tr>\n",
       "  </thead>\n",
       "  <tbody>\n",
       "    <tr>\n",
       "      <th>0</th>\n",
       "      <td>8850.0</td>\n",
       "      <td>44.546215</td>\n",
       "      <td>13.987271</td>\n",
       "      <td>6.0</td>\n",
       "      <td>33.0</td>\n",
       "      <td>43.0</td>\n",
       "      <td>55.0</td>\n",
       "      <td>117.0</td>\n",
       "    </tr>\n",
       "    <tr>\n",
       "      <th>1</th>\n",
       "      <td>1150.0</td>\n",
       "      <td>41.760870</td>\n",
       "      <td>12.769335</td>\n",
       "      <td>19.0</td>\n",
       "      <td>32.0</td>\n",
       "      <td>40.0</td>\n",
       "      <td>51.0</td>\n",
       "      <td>89.0</td>\n",
       "    </tr>\n",
       "  </tbody>\n",
       "</table>\n",
       "</div>"
      ],
      "text/plain": [
       "         count       mean        std   min   25%   50%   75%    max\n",
       "target                                                             \n",
       "0       8850.0  44.546215  13.987271   6.0  33.0  43.0  55.0  117.0\n",
       "1       1150.0  41.760870  12.769335  19.0  32.0  40.0  51.0   89.0"
      ]
     },
     "execution_count": 35,
     "metadata": {},
     "output_type": "execute_result"
    }
   ],
   "source": [
    "df.groupby('target').v2.describe()"
   ]
  },
  {
   "cell_type": "code",
   "execution_count": 38,
   "metadata": {},
   "outputs": [
    {
     "data": {
      "text/plain": [
       "<AxesSubplot:xlabel='target', ylabel='v2'>"
      ]
     },
     "execution_count": 38,
     "metadata": {},
     "output_type": "execute_result"
    },
    {
     "data": {
      "image/png": "[encoded data removed]",
      "text/plain": [
       "<Figure size 432x288 with 1 Axes>"
      ]
     },
     "metadata": {
      "needs_background": "light"
     },
     "output_type": "display_data"
    }
   ],
   "source": [
    "sns.boxplot(y='v2', x = 'target', data=df)"
   ]
  },
  {
   "cell_type": "code",
   "execution_count": 39,
   "metadata": {},
   "outputs": [
    {
     "name": "stderr",
     "output_type": "stream",
     "text": [
      "No handles with labels found to put in legend.\n"
     ]
    },
    {
     "data": {
      "image/png": "[encoded data removed]",
      "text/plain": [
       "<Figure size 720x432 with 1 Axes>"
      ]
     },
     "metadata": {
      "needs_background": "light"
     },
     "output_type": "display_data"
    }
   ],
   "source": [
    "v1 = df_0['v2']\n",
    "v2 = df_1['v2']\n",
    "v3 = np.concatenate((df_0['v2'],df_1['v2']))\n",
    "\n",
    "plt.figure(figsize=(10, 6))\n",
    "plt.hist([v1, v2], 31, histtype='barstacked', density=True, edgecolor='black');\n",
    "sns.kdeplot(v3);\n",
    "plt.legend()\n",
    "plt.ylabel('Probabilidade')\n",
    "plt.title(r'Histograma de V2')\n",
    "plt.show()\n",
    "\n"
   ]
  },
  {
   "cell_type": "markdown",
   "metadata": {},
   "source": [
    "## 2.3. V3 (Categoria?)"
   ]
  },
  {
   "cell_type": "code",
   "execution_count": 40,
   "metadata": {},
   "outputs": [
    {
     "data": {
      "text/plain": [
       "2    5271\n",
       "1    3767\n",
       "3     962\n",
       "Name: v3, dtype: int64"
      ]
     },
     "execution_count": 40,
     "metadata": {},
     "output_type": "execute_result"
    }
   ],
   "source": [
    "df['v3'].value_counts()"
   ]
  },
  {
   "cell_type": "code",
   "execution_count": 42,
   "metadata": {},
   "outputs": [
    {
     "data": {
      "text/plain": [
       "2    4751\n",
       "1    3240\n",
       "3     859\n",
       "Name: v3, dtype: int64"
      ]
     },
     "execution_count": 42,
     "metadata": {},
     "output_type": "execute_result"
    }
   ],
   "source": [
    "df_0['v3'].value_counts()"
   ]
  },
  {
   "cell_type": "code",
   "execution_count": 43,
   "metadata": {},
   "outputs": [
    {
     "data": {
      "text/plain": [
       "1    527\n",
       "2    520\n",
       "3    103\n",
       "Name: v3, dtype: int64"
      ]
     },
     "execution_count": 43,
     "metadata": {},
     "output_type": "execute_result"
    }
   ],
   "source": [
    "df_1['v3'].value_counts()"
   ]
  },
  {
   "cell_type": "markdown",
   "metadata": {},
   "source": [
    "## 2.4. V4 (Valor transacionado?)"
   ]
  },
  {
   "cell_type": "code",
   "execution_count": 14,
   "metadata": {},
   "outputs": [
    {
     "data": {
      "text/html": [
       "<div>\n",
       "<style scoped>\n",
       "    .dataframe tbody tr th:only-of-type {\n",
       "        vertical-align: middle;\n",
       "    }\n",
       "\n",
       "    .dataframe tbody tr th {\n",
       "        vertical-align: top;\n",
       "    }\n",
       "\n",
       "    .dataframe thead th {\n",
       "        text-align: right;\n",
       "    }\n",
       "</style>\n",
       "<table border=\"1\" class=\"dataframe\">\n",
       "  <thead>\n",
       "    <tr style=\"text-align: right;\">\n",
       "      <th></th>\n",
       "      <th>count</th>\n",
       "      <th>mean</th>\n",
       "      <th>std</th>\n",
       "      <th>min</th>\n",
       "      <th>25%</th>\n",
       "      <th>50%</th>\n",
       "      <th>75%</th>\n",
       "      <th>max</th>\n",
       "    </tr>\n",
       "    <tr>\n",
       "      <th>target</th>\n",
       "      <th></th>\n",
       "      <th></th>\n",
       "      <th></th>\n",
       "      <th></th>\n",
       "      <th></th>\n",
       "      <th></th>\n",
       "      <th></th>\n",
       "      <th></th>\n",
       "    </tr>\n",
       "  </thead>\n",
       "  <tbody>\n",
       "    <tr>\n",
       "      <th>0</th>\n",
       "      <td>8850.0</td>\n",
       "      <td>1778.781221</td>\n",
       "      <td>217.141548</td>\n",
       "      <td>0.0</td>\n",
       "      <td>1638.00</td>\n",
       "      <td>1725.64</td>\n",
       "      <td>1890.8600</td>\n",
       "      <td>3223.21</td>\n",
       "    </tr>\n",
       "    <tr>\n",
       "      <th>1</th>\n",
       "      <td>1150.0</td>\n",
       "      <td>1751.359957</td>\n",
       "      <td>202.989465</td>\n",
       "      <td>0.0</td>\n",
       "      <td>1623.68</td>\n",
       "      <td>1718.52</td>\n",
       "      <td>1867.6375</td>\n",
       "      <td>2782.16</td>\n",
       "    </tr>\n",
       "  </tbody>\n",
       "</table>\n",
       "</div>"
      ],
      "text/plain": [
       "         count         mean         std  min      25%      50%        75%  \\\n",
       "target                                                                      \n",
       "0       8850.0  1778.781221  217.141548  0.0  1638.00  1725.64  1890.8600   \n",
       "1       1150.0  1751.359957  202.989465  0.0  1623.68  1718.52  1867.6375   \n",
       "\n",
       "            max  \n",
       "target           \n",
       "0       3223.21  \n",
       "1       2782.16  "
      ]
     },
     "execution_count": 14,
     "metadata": {},
     "output_type": "execute_result"
    }
   ],
   "source": [
    "df.groupby('target').v4.describe()"
   ]
  },
  {
   "cell_type": "code",
   "execution_count": 15,
   "metadata": {},
   "outputs": [
    {
     "data": {
      "text/plain": [
       "<AxesSubplot:xlabel='target', ylabel='v4'>"
      ]
     },
     "execution_count": 15,
     "metadata": {},
     "output_type": "execute_result"
    },
    {
     "data": {
      "image/png": "[encoded data removed]",
      "text/plain": [
       "<Figure size 432x288 with 1 Axes>"
      ]
     },
     "metadata": {
      "needs_background": "light"
     },
     "output_type": "display_data"
    }
   ],
   "source": [
    "sns.boxplot(y='v4', x = 'target', data=df)"
   ]
  },
  {
   "cell_type": "code",
   "execution_count": 16,
   "metadata": {},
   "outputs": [
    {
     "name": "stderr",
     "output_type": "stream",
     "text": [
      "No handles with labels found to put in legend.\n"
     ]
    },
    {
     "data": {
      "image/png": "[encoded data removed]",
      "text/plain": [
       "<Figure size 720x432 with 1 Axes>"
      ]
     },
     "metadata": {
      "needs_background": "light"
     },
     "output_type": "display_data"
    }
   ],
   "source": [
    "v1 = df_0['v4']\n",
    "v2 = df_1['v4']\n",
    "v3 = np.concatenate((df_0['v4'],df_1['v4']))\n",
    "\n",
    "plt.figure(figsize=(10, 6))\n",
    "plt.hist([v1, v2], 31, histtype='barstacked', density=True, edgecolor='black');\n",
    "sns.kdeplot(v3);\n",
    "plt.legend()\n",
    "plt.ylabel('Probabilidade')\n",
    "plt.title(r'Histograma de V4')\n",
    "plt.show()\n"
   ]
  },
  {
   "cell_type": "markdown",
   "metadata": {},
   "source": [
    "## 2.5. V5 ()"
   ]
  },
  {
   "cell_type": "code",
   "execution_count": 18,
   "metadata": {},
   "outputs": [
    {
     "data": {
      "text/plain": [
       "0.00      9542\n",
       "854.13     105\n",
       "230.82      94\n",
       "365.84      61\n",
       "461.64      50\n",
       "535.94      32\n",
       "596.66      30\n",
       "647.99      24\n",
       "692.45      15\n",
       "766.76      15\n",
       "827.47      13\n",
       "731.68      12\n",
       "798.50       7\n",
       "Name: v5, dtype: int64"
      ]
     },
     "execution_count": 18,
     "metadata": {},
     "output_type": "execute_result"
    }
   ],
   "source": [
    "df['v5'].value_counts()"
   ]
  },
  {
   "cell_type": "code",
   "execution_count": 19,
   "metadata": {},
   "outputs": [
    {
     "data": {
      "text/plain": [
       "0.00      8727\n",
       "230.82      35\n",
       "461.64      17\n",
       "854.13      17\n",
       "365.84      16\n",
       "596.66      13\n",
       "692.45       7\n",
       "535.94       6\n",
       "647.99       4\n",
       "766.76       4\n",
       "827.47       2\n",
       "731.68       2\n",
       "Name: v5, dtype: int64"
      ]
     },
     "execution_count": 19,
     "metadata": {},
     "output_type": "execute_result"
    }
   ],
   "source": [
    "df_0['v5'].value_counts()"
   ]
  },
  {
   "cell_type": "code",
   "execution_count": 21,
   "metadata": {},
   "outputs": [
    {
     "data": {
      "text/plain": [
       "0.00      815\n",
       "854.13     88\n",
       "230.82     59\n",
       "365.84     45\n",
       "461.64     33\n",
       "535.94     26\n",
       "647.99     20\n",
       "596.66     17\n",
       "827.47     11\n",
       "766.76     11\n",
       "731.68     10\n",
       "692.45      8\n",
       "798.50      7\n",
       "Name: v5, dtype: int64"
      ]
     },
     "execution_count": 21,
     "metadata": {},
     "output_type": "execute_result"
    }
   ],
   "source": [
    "df_1['v5'].value_counts()"
   ]
  },
  {
   "cell_type": "markdown",
   "metadata": {},
   "source": [
    "## 2.6. V6 ()"
   ]
  },
  {
   "cell_type": "code",
   "execution_count": 57,
   "metadata": {},
   "outputs": [
    {
     "data": {
      "text/plain": [
       "0.00       9542\n",
       "1863.08       1\n",
       "2032.63       1\n",
       "1728.21       1\n",
       "1380.94       1\n",
       "           ... \n",
       "1755.08       1\n",
       "1952.48       1\n",
       "1343.35       1\n",
       "1442.39       1\n",
       "1997.06       1\n",
       "Name: v6, Length: 459, dtype: int64"
      ]
     },
     "execution_count": 57,
     "metadata": {},
     "output_type": "execute_result"
    }
   ],
   "source": [
    "df['v6'].value_counts()"
   ]
  },
  {
   "cell_type": "code",
   "execution_count": 31,
   "metadata": {},
   "outputs": [
    {
     "data": {
      "text/html": [
       "<div>\n",
       "<style scoped>\n",
       "    .dataframe tbody tr th:only-of-type {\n",
       "        vertical-align: middle;\n",
       "    }\n",
       "\n",
       "    .dataframe tbody tr th {\n",
       "        vertical-align: top;\n",
       "    }\n",
       "\n",
       "    .dataframe thead th {\n",
       "        text-align: right;\n",
       "    }\n",
       "</style>\n",
       "<table border=\"1\" class=\"dataframe\">\n",
       "  <thead>\n",
       "    <tr style=\"text-align: right;\">\n",
       "      <th></th>\n",
       "      <th>count</th>\n",
       "      <th>mean</th>\n",
       "      <th>std</th>\n",
       "      <th>min</th>\n",
       "      <th>25%</th>\n",
       "      <th>50%</th>\n",
       "      <th>75%</th>\n",
       "      <th>max</th>\n",
       "    </tr>\n",
       "    <tr>\n",
       "      <th>target</th>\n",
       "      <th></th>\n",
       "      <th></th>\n",
       "      <th></th>\n",
       "      <th></th>\n",
       "      <th></th>\n",
       "      <th></th>\n",
       "      <th></th>\n",
       "      <th></th>\n",
       "    </tr>\n",
       "  </thead>\n",
       "  <tbody>\n",
       "    <tr>\n",
       "      <th>0</th>\n",
       "      <td>8850.0</td>\n",
       "      <td>23.442070</td>\n",
       "      <td>204.233384</td>\n",
       "      <td>0.0</td>\n",
       "      <td>0.0</td>\n",
       "      <td>0.0</td>\n",
       "      <td>0.0000</td>\n",
       "      <td>3094.91</td>\n",
       "    </tr>\n",
       "    <tr>\n",
       "      <th>1</th>\n",
       "      <td>1150.0</td>\n",
       "      <td>508.676252</td>\n",
       "      <td>822.507457</td>\n",
       "      <td>0.0</td>\n",
       "      <td>0.0</td>\n",
       "      <td>0.0</td>\n",
       "      <td>1280.1425</td>\n",
       "      <td>2718.66</td>\n",
       "    </tr>\n",
       "  </tbody>\n",
       "</table>\n",
       "</div>"
      ],
      "text/plain": [
       "         count        mean         std  min  25%  50%        75%      max\n",
       "target                                                                   \n",
       "0       8850.0   23.442070  204.233384  0.0  0.0  0.0     0.0000  3094.91\n",
       "1       1150.0  508.676252  822.507457  0.0  0.0  0.0  1280.1425  2718.66"
      ]
     },
     "execution_count": 31,
     "metadata": {},
     "output_type": "execute_result"
    }
   ],
   "source": [
    "df.groupby('target').v6.describe()"
   ]
  },
  {
   "cell_type": "code",
   "execution_count": 32,
   "metadata": {},
   "outputs": [
    {
     "data": {
      "text/plain": [
       "<AxesSubplot:xlabel='target', ylabel='v6'>"
      ]
     },
     "execution_count": 32,
     "metadata": {},
     "output_type": "execute_result"
    },
    {
     "data": {
      "image/png": "[encoded data removed]",
      "text/plain": [
       "<Figure size 432x288 with 1 Axes>"
      ]
     },
     "metadata": {
      "needs_background": "light"
     },
     "output_type": "display_data"
    }
   ],
   "source": [
    "sns.boxplot(y='v6', x = 'target', data=df)"
   ]
  },
  {
   "cell_type": "code",
   "execution_count": 34,
   "metadata": {},
   "outputs": [
    {
     "name": "stderr",
     "output_type": "stream",
     "text": [
      "No handles with labels found to put in legend.\n"
     ]
    },
    {
     "data": {
      "image/png": "[encoded data removed]",
      "text/plain": [
       "<Figure size 720x432 with 1 Axes>"
      ]
     },
     "metadata": {
      "needs_background": "light"
     },
     "output_type": "display_data"
    }
   ],
   "source": [
    "v1 = df_0['v6']\n",
    "v2 = df_1['v6']\n",
    "v3 = np.concatenate((df_0['v6'],df_1['v6']))\n",
    "\n",
    "plt.figure(figsize=(10, 6))\n",
    "plt.hist([v1, v2], 31, histtype='barstacked', density=True, edgecolor='black');\n",
    "sns.kdeplot(v3);\n",
    "plt.legend()\n",
    "plt.ylabel('Probabilidade')\n",
    "plt.title(r'Histograma de V6')\n",
    "plt.show()\n"
   ]
  },
  {
   "cell_type": "markdown",
   "metadata": {},
   "source": [
    "## 2.7. V7 ()"
   ]
  },
  {
   "cell_type": "code",
   "execution_count": 35,
   "metadata": {},
   "outputs": [
    {
     "data": {
      "text/html": [
       "<div>\n",
       "<style scoped>\n",
       "    .dataframe tbody tr th:only-of-type {\n",
       "        vertical-align: middle;\n",
       "    }\n",
       "\n",
       "    .dataframe tbody tr th {\n",
       "        vertical-align: top;\n",
       "    }\n",
       "\n",
       "    .dataframe thead th {\n",
       "        text-align: right;\n",
       "    }\n",
       "</style>\n",
       "<table border=\"1\" class=\"dataframe\">\n",
       "  <thead>\n",
       "    <tr style=\"text-align: right;\">\n",
       "      <th></th>\n",
       "      <th>count</th>\n",
       "      <th>mean</th>\n",
       "      <th>std</th>\n",
       "      <th>min</th>\n",
       "      <th>25%</th>\n",
       "      <th>50%</th>\n",
       "      <th>75%</th>\n",
       "      <th>max</th>\n",
       "    </tr>\n",
       "    <tr>\n",
       "      <th>target</th>\n",
       "      <th></th>\n",
       "      <th></th>\n",
       "      <th></th>\n",
       "      <th></th>\n",
       "      <th></th>\n",
       "      <th></th>\n",
       "      <th></th>\n",
       "      <th></th>\n",
       "    </tr>\n",
       "  </thead>\n",
       "  <tbody>\n",
       "    <tr>\n",
       "      <th>0</th>\n",
       "      <td>8850.0</td>\n",
       "      <td>776.254656</td>\n",
       "      <td>389.675514</td>\n",
       "      <td>0.0</td>\n",
       "      <td>695.68</td>\n",
       "      <td>904.295</td>\n",
       "      <td>1033.7825</td>\n",
       "      <td>1635.80</td>\n",
       "    </tr>\n",
       "    <tr>\n",
       "      <th>1</th>\n",
       "      <td>1150.0</td>\n",
       "      <td>930.252443</td>\n",
       "      <td>242.135488</td>\n",
       "      <td>0.0</td>\n",
       "      <td>850.93</td>\n",
       "      <td>965.035</td>\n",
       "      <td>1064.5325</td>\n",
       "      <td>1566.64</td>\n",
       "    </tr>\n",
       "  </tbody>\n",
       "</table>\n",
       "</div>"
      ],
      "text/plain": [
       "         count        mean         std  min     25%      50%        75%  \\\n",
       "target                                                                    \n",
       "0       8850.0  776.254656  389.675514  0.0  695.68  904.295  1033.7825   \n",
       "1       1150.0  930.252443  242.135488  0.0  850.93  965.035  1064.5325   \n",
       "\n",
       "            max  \n",
       "target           \n",
       "0       1635.80  \n",
       "1       1566.64  "
      ]
     },
     "execution_count": 35,
     "metadata": {},
     "output_type": "execute_result"
    }
   ],
   "source": [
    "df.groupby('target').v7.describe()"
   ]
  },
  {
   "cell_type": "code",
   "execution_count": 36,
   "metadata": {},
   "outputs": [
    {
     "data": {
      "text/plain": [
       "<AxesSubplot:xlabel='target', ylabel='v7'>"
      ]
     },
     "execution_count": 36,
     "metadata": {},
     "output_type": "execute_result"
    },
    {
     "data": {
      "image/png": "[encoded data removed]",
      "text/plain": [
       "<Figure size 432x288 with 1 Axes>"
      ]
     },
     "metadata": {
      "needs_background": "light"
     },
     "output_type": "display_data"
    }
   ],
   "source": [
    "sns.boxplot(y='v7', x = 'target', data=df)"
   ]
  },
  {
   "cell_type": "code",
   "execution_count": 37,
   "metadata": {},
   "outputs": [
    {
     "name": "stderr",
     "output_type": "stream",
     "text": [
      "No handles with labels found to put in legend.\n"
     ]
    },
    {
     "data": {
      "image/png": "[encoded data removed]",
      "text/plain": [
       "<Figure size 720x432 with 1 Axes>"
      ]
     },
     "metadata": {
      "needs_background": "light"
     },
     "output_type": "display_data"
    }
   ],
   "source": [
    "v1 = df_0['v7']\n",
    "v2 = df_1['v7']\n",
    "v3 = np.concatenate((df_0['v7'],df_1['v7']))\n",
    "\n",
    "plt.figure(figsize=(10, 6))\n",
    "plt.hist([v1, v2], 31, histtype='barstacked', density=True, edgecolor='black');\n",
    "sns.kdeplot(v3);\n",
    "plt.legend()\n",
    "plt.ylabel('Probabilidade')\n",
    "plt.title(r'Histograma de V7')\n",
    "plt.show()"
   ]
  },
  {
   "cell_type": "markdown",
   "metadata": {},
   "source": [
    "## 2.8. V8 ()"
   ]
  },
  {
   "cell_type": "code",
   "execution_count": 38,
   "metadata": {},
   "outputs": [
    {
     "data": {
      "text/html": [
       "<div>\n",
       "<style scoped>\n",
       "    .dataframe tbody tr th:only-of-type {\n",
       "        vertical-align: middle;\n",
       "    }\n",
       "\n",
       "    .dataframe tbody tr th {\n",
       "        vertical-align: top;\n",
       "    }\n",
       "\n",
       "    .dataframe thead th {\n",
       "        text-align: right;\n",
       "    }\n",
       "</style>\n",
       "<table border=\"1\" class=\"dataframe\">\n",
       "  <thead>\n",
       "    <tr style=\"text-align: right;\">\n",
       "      <th></th>\n",
       "      <th>count</th>\n",
       "      <th>mean</th>\n",
       "      <th>std</th>\n",
       "      <th>min</th>\n",
       "      <th>25%</th>\n",
       "      <th>50%</th>\n",
       "      <th>75%</th>\n",
       "      <th>max</th>\n",
       "    </tr>\n",
       "    <tr>\n",
       "      <th>target</th>\n",
       "      <th></th>\n",
       "      <th></th>\n",
       "      <th></th>\n",
       "      <th></th>\n",
       "      <th></th>\n",
       "      <th></th>\n",
       "      <th></th>\n",
       "      <th></th>\n",
       "    </tr>\n",
       "  </thead>\n",
       "  <tbody>\n",
       "    <tr>\n",
       "      <th>0</th>\n",
       "      <td>8850.0</td>\n",
       "      <td>855.668198</td>\n",
       "      <td>777.563099</td>\n",
       "      <td>0.0</td>\n",
       "      <td>0.0</td>\n",
       "      <td>848.99</td>\n",
       "      <td>1573.8575</td>\n",
       "      <td>2552.69</td>\n",
       "    </tr>\n",
       "    <tr>\n",
       "      <th>1</th>\n",
       "      <td>1150.0</td>\n",
       "      <td>242.558670</td>\n",
       "      <td>503.458951</td>\n",
       "      <td>0.0</td>\n",
       "      <td>0.0</td>\n",
       "      <td>0.00</td>\n",
       "      <td>121.3600</td>\n",
       "      <td>2336.20</td>\n",
       "    </tr>\n",
       "  </tbody>\n",
       "</table>\n",
       "</div>"
      ],
      "text/plain": [
       "         count        mean         std  min  25%     50%        75%      max\n",
       "target                                                                      \n",
       "0       8850.0  855.668198  777.563099  0.0  0.0  848.99  1573.8575  2552.69\n",
       "1       1150.0  242.558670  503.458951  0.0  0.0    0.00   121.3600  2336.20"
      ]
     },
     "execution_count": 38,
     "metadata": {},
     "output_type": "execute_result"
    }
   ],
   "source": [
    "df.groupby('target').v8.describe()"
   ]
  },
  {
   "cell_type": "code",
   "execution_count": 39,
   "metadata": {},
   "outputs": [
    {
     "data": {
      "text/plain": [
       "<AxesSubplot:xlabel='target', ylabel='v7'>"
      ]
     },
     "execution_count": 39,
     "metadata": {},
     "output_type": "execute_result"
    },
    {
     "data": {
      "image/png": "[encoded data removed]",
      "text/plain": [
       "<Figure size 432x288 with 1 Axes>"
      ]
     },
     "metadata": {
      "needs_background": "light"
     },
     "output_type": "display_data"
    }
   ],
   "source": [
    "sns.boxplot(y='v7', x = 'target', data=df)"
   ]
  },
  {
   "cell_type": "code",
   "execution_count": 40,
   "metadata": {},
   "outputs": [
    {
     "name": "stderr",
     "output_type": "stream",
     "text": [
      "No handles with labels found to put in legend.\n"
     ]
    },
    {
     "data": {
      "image/png": "[encoded data removed]",
      "text/plain": [
       "<Figure size 720x432 with 1 Axes>"
      ]
     },
     "metadata": {
      "needs_background": "light"
     },
     "output_type": "display_data"
    }
   ],
   "source": [
    "v1 = df_0['v8']\n",
    "v2 = df_1['v8']\n",
    "v3 = np.concatenate((df_0['v8'],df_1['v8']))\n",
    "\n",
    "plt.figure(figsize=(10, 6))\n",
    "plt.hist([v1, v2], 31, histtype='barstacked', density=True, edgecolor='black');\n",
    "sns.kdeplot(v3);\n",
    "plt.legend()\n",
    "plt.ylabel('Probabilidade')\n",
    "plt.title(r'Histograma de V8')\n",
    "plt.show()"
   ]
  },
  {
   "cell_type": "markdown",
   "metadata": {},
   "source": [
    "# 3. Testes de Hipóteses"
   ]
  },
  {
   "cell_type": "markdown",
   "metadata": {},
   "source": [
    "## 3.1. Teste de Normalidade"
   ]
  },
  {
   "cell_type": "markdown",
   "metadata": {},
   "source": [
    "#### Teste de normalidade - Shapiro-Wilk\n",
    "\n",
    "- H0: Dados seguem distribuição normal\n",
    "- H1: Dados não seguem distribuição normal"
   ]
  },
  {
   "cell_type": "code",
   "execution_count": 71,
   "metadata": {},
   "outputs": [],
   "source": [
    "numerical = df.select_dtypes(include='float')"
   ]
  },
  {
   "cell_type": "code",
   "execution_count": 73,
   "metadata": {},
   "outputs": [
    {
     "name": "stdout",
     "output_type": "stream",
     "text": [
      "v1\n",
      " Estatística de teste=0.5927214622497559\n",
      " P-valor=0.0 \n",
      "\n",
      "\n",
      "v4\n",
      " Estatística de teste=0.928329586982727\n",
      " P-valor=0.0 \n",
      "\n",
      "\n",
      "v5\n",
      " Estatística de teste=0.20179212093353271\n",
      " P-valor=0.0 \n",
      "\n",
      "\n",
      "v6\n",
      " Estatística de teste=0.21468281745910645\n",
      " P-valor=0.0 \n",
      "\n",
      "\n",
      "v7\n",
      " Estatística de teste=0.8178486824035645\n",
      " P-valor=0.0 \n",
      "\n",
      "\n",
      "v8\n",
      " Estatística de teste=0.8413853645324707\n",
      " P-valor=0.0 \n",
      "\n",
      "\n"
     ]
    },
    {
     "name": "stderr",
     "output_type": "stream",
     "text": [
      "C:\\Users\\DPL\\anaconda3\\lib\\site-packages\\scipy\\stats\\morestats.py:1681: UserWarning: p-value may not be accurate for N > 5000.\n",
      "  warnings.warn(\"p-value may not be accurate for N > 5000.\")\n"
     ]
    }
   ],
   "source": [
    "for col in numerical.columns:\n",
    "    stat, p = shapiro(df[col])\n",
    "    print(f\"{col}\\n Estatística de teste={stat}\\n P-valor={p} \\n\\n\")"
   ]
  },
  {
   "cell_type": "code",
   "execution_count": 76,
   "metadata": {},
   "outputs": [],
   "source": [
    "numerical_1 = df.select_dtypes(include='int64')"
   ]
  },
  {
   "cell_type": "code",
   "execution_count": 77,
   "metadata": {},
   "outputs": [
    {
     "name": "stdout",
     "output_type": "stream",
     "text": [
      "v2\n",
      " Estatística de teste=0.9764981865882874\n",
      " P-valor=1.5783163157399396e-37 \n",
      "\n",
      "\n",
      "v3\n",
      " Estatística de teste=0.7682526707649231\n",
      " P-valor=0.0 \n",
      "\n",
      "\n",
      "target\n",
      " Estatística de teste=0.37017756700515747\n",
      " P-valor=0.0 \n",
      "\n",
      "\n"
     ]
    }
   ],
   "source": [
    "for col in numerical_1.columns:\n",
    "    stat, p = shapiro(df[col])\n",
    "    print(f\"{col}\\n Estatística de teste={stat}\\n P-valor={p} \\n\\n\")"
   ]
  },
  {
   "cell_type": "markdown",
   "metadata": {},
   "source": [
    "#### Apenas os dados da distribuição da variável v2 segue a distribuição normal"
   ]
  },
  {
   "cell_type": "markdown",
   "metadata": {},
   "source": [
    "## 3.2. Correlações"
   ]
  },
  {
   "cell_type": "code",
   "execution_count": 55,
   "metadata": {},
   "outputs": [],
   "source": [
    "num_var_keep = ['v1',\n",
    "                'v2',\n",
    "                'v4',\n",
    "                'v5',\n",
    "                'v6',\n",
    "                'v7',\n",
    "                'v8']"
   ]
  },
  {
   "cell_type": "code",
   "execution_count": 56,
   "metadata": {},
   "outputs": [
    {
     "data": {
      "text/plain": [
       "<AxesSubplot:>"
      ]
     },
     "execution_count": 56,
     "metadata": {},
     "output_type": "execute_result"
    },
    {
     "data": {
      "image/png": "[encoded data removed]",
      "text/plain": [
       "<Figure size 864x648 with 2 Axes>"
      ]
     },
     "metadata": {
      "needs_background": "light"
     },
     "output_type": "display_data"
    }
   ],
   "source": [
    "plt.figure(figsize=(12, 9))\n",
    "sns.heatmap(df[num_var_keep].corr(), annot=True, cmap=\"YlGnBu\")"
   ]
  },
  {
   "cell_type": "code",
   "execution_count": 58,
   "metadata": {},
   "outputs": [],
   "source": [
    "num_var_keep2 = ['v1',\n",
    "                'v2',\n",
    "                'v4',\n",
    "                'v6',\n",
    "                'v7',\n",
    "                'v8']"
   ]
  },
  {
   "cell_type": "code",
   "execution_count": 59,
   "metadata": {},
   "outputs": [
    {
     "data": {
      "text/plain": [
       "<AxesSubplot:>"
      ]
     },
     "execution_count": 59,
     "metadata": {},
     "output_type": "execute_result"
    },
    {
     "data": {
      "image/png": "[encoded data removed]",
      "text/plain": [
       "<Figure size 864x648 with 2 Axes>"
      ]
     },
     "metadata": {
      "needs_background": "light"
     },
     "output_type": "display_data"
    }
   ],
   "source": [
    "plt.figure(figsize=(12, 9))\n",
    "sns.heatmap(df[num_var_keep2].corr(), annot=True, cmap=\"YlGnBu\")"
   ]
  },
  {
   "cell_type": "markdown",
   "metadata": {},
   "source": [
    "## 3.3. Diferenças entre os grupos da Target"
   ]
  },
  {
   "cell_type": "markdown",
   "metadata": {},
   "source": [
    "#### Teste de Mann-Whitney\n",
    "\n",
    "- H0: Não existe diferença entre os grupos\n",
    "- H1: Há diferença entre os grupos"
   ]
  },
  {
   "cell_type": "code",
   "execution_count": 84,
   "metadata": {},
   "outputs": [
    {
     "name": "stdout",
     "output_type": "stream",
     "text": [
      "v1\n",
      " Estatística de teste=4864892.5\n",
      " P-valor=0.0006939714827136885 \n",
      "\n",
      "\n",
      "v4\n",
      " Estatística de teste=4818456.5\n",
      " P-valor=0.0016683247410844047 \n",
      "\n",
      "\n",
      "v5\n",
      " Estatística de teste=3672950.0\n",
      " P-valor=0.0 \n",
      "\n",
      "\n",
      "v6\n",
      " Estatística de teste=3674782.5\n",
      " P-valor=0.0 \n",
      "\n",
      "\n",
      "v7\n",
      " Estatística de teste=4079082.5\n",
      " P-valor=2.3802052690642844e-28 \n",
      "\n",
      "\n",
      "v8\n",
      " Estatística de teste=2788410.0\n",
      " P-valor=1.3945882667992553e-146 \n",
      "\n",
      "\n"
     ]
    }
   ],
   "source": [
    "for col in numerical.columns:\n",
    "    stat, p = mannwhitneyu(df[df['target'] == 0][col], df[df['target'] == 1][col])\n",
    "    print(f\"{col}\\n Estatística de teste={stat}\\n P-valor={p} \\n\\n\")"
   ]
  },
  {
   "cell_type": "code",
   "execution_count": 90,
   "metadata": {},
   "outputs": [
    {
     "name": "stdout",
     "output_type": "stream",
     "text": [
      "v2\n",
      " Estatística de teste=4541414.5\n",
      " P-valor=1.3881638265999099e-09 \n",
      "\n",
      "\n"
     ]
    }
   ],
   "source": [
    "    stat, p = mannwhitneyu(df[df['target'] == 0]['v2'], df[df['target'] == 1]['v2'])\n",
    "    print(f\"{'v2'}\\n Estatística de teste={stat}\\n P-valor={p} \\n\\n\")"
   ]
  },
  {
   "cell_type": "markdown",
   "metadata": {},
   "source": [
    "#### Serão consideradas no modelo apenas as variáveis que apresentaram p-valor menor que 0,05 no teste de Mann-Whitney"
   ]
  },
  {
   "cell_type": "code",
   "execution_count": 143,
   "metadata": {},
   "outputs": [],
   "source": [
    "num_var_keep2 = ['v1',\n",
    "                'v2',\n",
    "                'v4',\n",
    "                'v6',\n",
    "                'v7',\n",
    "                'v8']"
   ]
  },
  {
   "cell_type": "markdown",
   "metadata": {},
   "source": [
    "## 3.4. Analisando as variáveis categóricas"
   ]
  },
  {
   "cell_type": "code",
   "execution_count": 120,
   "metadata": {},
   "outputs": [
    {
     "data": {
      "image/png": "[encoded data removed]",
      "text/plain": [
       "<Figure size 1440x720 with 3 Axes>"
      ]
     },
     "metadata": {},
     "output_type": "display_data"
    }
   ],
   "source": [
    "categorical = df.select_dtypes(include='object')\n",
    "\n",
    "df_class_0 = df[df['target']==0]\n",
    "df_class_1 = df[df['target']==1]\n",
    "\n",
    "fig, ax = plt.subplots(nrows=3, ncols=1, figsize=(20,10))\n",
    "fig.subplots_adjust(hspace=1, wspace=1)\n",
    "\n",
    "idx = 0\n",
    "for col in categorical.columns:\n",
    "    idx += 1\n",
    "    plt.subplot(1, 3, idx)\n",
    "    att = df.groupby(df[col]).count()\n",
    "    plt.pie(x=att['v2'], labels=att.index, autopct='%1.1f%%')\n",
    "    plt.title(f\"{col}\")\n",
    "plt.tight_layout()"
   ]
  },
  {
   "cell_type": "code",
   "execution_count": 121,
   "metadata": {},
   "outputs": [
    {
     "name": "stdout",
     "output_type": "stream",
     "text": [
      "v1: \n",
      " 0.000000    7487\n",
      "0.693147    1175\n",
      "1.098612     875\n",
      "1.386294     348\n",
      "1.609438      79\n",
      "1.791759      21\n",
      "1.945910       8\n",
      "2.079442       4\n",
      "2.197225       3\n",
      "Name: v1, dtype: int64\n",
      "\n",
      "\n",
      "v3: \n",
      " 2    5271\n",
      "1    3767\n",
      "3     962\n",
      "Name: v3, dtype: int64\n",
      "\n",
      "\n",
      "target: \n",
      " 0    8850\n",
      "1    1150\n",
      "Name: target, dtype: int64\n",
      "\n",
      "\n"
     ]
    }
   ],
   "source": [
    "for i in categorical.columns:\n",
    "    print(f\"{i}: \\n {df[i].value_counts()}\\n\\n\")"
   ]
  },
  {
   "cell_type": "code",
   "execution_count": 128,
   "metadata": {},
   "outputs": [
    {
     "data": {
      "image/png": "[encoded data removed]",
      "text/plain": [
       "<Figure size 1440x360 with 3 Axes>"
      ]
     },
     "metadata": {
      "needs_background": "light"
     },
     "output_type": "display_data"
    }
   ],
   "source": [
    "categorical = df.select_dtypes(include='object')\n",
    "\n",
    "fig, ax = plt.subplots(nrows=3, ncols=1, figsize=(20,5))\n",
    "fig.subplots_adjust(hspace=1, wspace=1)\n",
    "# categorical.drop('target', axis = 1, inplace=True)\n",
    "\n",
    "idx = 0\n",
    "for col in categorical.columns:\n",
    "    idx += 1\n",
    "    plt.subplot(1, 3, idx)\n",
    "    att = df.groupby(df[col]).count()\n",
    "    sns.barplot(data = df, x=df[col], y='target')\n",
    "    plt.title(f\"{col}\")\n",
    "plt.tight_layout()"
   ]
  },
  {
   "cell_type": "markdown",
   "metadata": {},
   "source": [
    "##### Teste qui-quadrado\n",
    "\n",
    "- H0: Não há associação entre as variáveis\n",
    "- H1: Há associação entre as variáveis"
   ]
  },
  {
   "cell_type": "code",
   "execution_count": 142,
   "metadata": {},
   "outputs": [
    {
     "name": "stdout",
     "output_type": "stream",
     "text": [
      "(array([18387.50556793]), array([0.]))\n",
      "coluna: v1, Estatística de teste: 0    18387.505568\n",
      "dtype: float64, p-Value: 0    0.0\n",
      "dtype: float64 \n",
      "\n",
      "(array([200.26740077]), array([5.61243234e-39]))\n",
      "coluna: v3, Estatística de teste: 0    200.267401\n",
      "dtype: float64, p-Value: 0    5.612432e-39\n",
      "dtype: float64 \n",
      "\n",
      "(array([21.88864711]), array([0.00512638]))\n",
      "coluna: target, Estatística de teste: 0    21.888647\n",
      "dtype: float64, p-Value: 0    0.005126\n",
      "dtype: float64 \n",
      "\n"
     ]
    }
   ],
   "source": [
    "dfc = pd.DataFrame()\n",
    "le = preprocessing.LabelEncoder()\n",
    "\n",
    "for col in categorical.columns:\n",
    "    dfc[col] = le.fit_transform(df[col])\n",
    "    chi_sqs = chi2(dfc[[col]], dfc['v1'])\n",
    "    scores = pd.Series(chi_sqs[0])\n",
    "    pvalues = pd.Series(chi_sqs[1])\n",
    "    print(chi_sqs)\n",
    "    print(f\"coluna: {col}, Estatística de teste: {scores}, p-Value: {pvalues} \\n\")"
   ]
  },
  {
   "cell_type": "markdown",
   "metadata": {},
   "source": [
    "#### Serão levadas para o modelo as variáveis cujo p-valor do teste qui-quadrado for maior que 5%"
   ]
  },
  {
   "cell_type": "code",
   "execution_count": 139,
   "metadata": {},
   "outputs": [],
   "source": [
    "cat_var_keep = ['v1',\n",
    "               'v3']"
   ]
  },
  {
   "cell_type": "markdown",
   "metadata": {},
   "source": [
    "##### Após todo processo de exploração de dados e testes iniciais, decidiu-se pela eliminação da variável v5, por esta ter grande correlação com  a variável v6, não sendo assim conveniente prosseguir com as duas variáveis para o modelo. Todas as demais variáveis foram mantidas por critérios técnicos dos testes de Mann-Whitney e correlação."
   ]
  }
 ],
 "metadata": {
  "kernelspec": {
   "display_name": "Python 3",
   "language": "python",
   "name": "python3"
  },
  "language_info": {
   "codemirror_mode": {
    "name": "ipython",
    "version": 3
   },
   "file_extension": ".py",
   "mimetype": "text/x-python",
   "name": "python",
   "nbconvert_exporter": "python",
   "pygments_lexer": "ipython3",
   "version": "3.8.5"
  }
 },
 "nbformat": 4,
 "nbformat_minor": 4
}
